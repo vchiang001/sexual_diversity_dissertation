{
  "nbformat": 4,
  "nbformat_minor": 0,
  "metadata": {
    "colab": {
      "provenance": [],
      "authorship_tag": "ABX9TyNW1ze0h8GCdNJtiTTwNgC2",
      "include_colab_link": true
    },
    "kernelspec": {
      "name": "python3",
      "display_name": "Python 3"
    },
    "language_info": {
      "name": "python"
    }
  },
  "cells": [
    {
      "cell_type": "markdown",
      "metadata": {
        "id": "view-in-github",
        "colab_type": "text"
      },
      "source": [
        "<a href=\"https://colab.research.google.com/github/vchiang001/sexual_diversity_dissertation/blob/main/camtrap_analysis_visualisation.ipynb\" target=\"_parent\"><img src=\"https://colab.research.google.com/assets/colab-badge.svg\" alt=\"Open In Colab\"/></a>"
      ]
    },
    {
      "cell_type": "code",
      "execution_count": null,
      "metadata": {
        "id": "wi5ZvDitLXbE"
      },
      "outputs": [],
      "source": [
        "import pandas as pd\n",
        "import matplotlib.pyplot as plt\n",
        "import numpy as np\n",
        "import seaborn as sns\n",
        "from sklearn.linear_model import LinearRegression\n",
        "from sklearn.metrics import r2_score"
      ]
    },
    {
      "cell_type": "code",
      "source": [
        "#occupancy\n",
        "\n",
        "df = pd.read_csv(\"\") #csv file path for occupancy\n",
        "# Plot the data as a bar plot\n",
        "plt.figure(figsize=(10, 6))\n",
        "plt.bar(df[\"Site\"], df[\"Occupancy\"], color='skyblue')\n",
        "#plt.title('Occupancy Probability')\n",
        "plt.xlabel('Camera Trap Sites')\n",
        "plt.ylabel('Occupancy Probability')\n",
        "plt.xticks(rotation=90)\n",
        "plt.tight_layout()\n",
        "plt.savefig(\"occupancy.svg\", format='svg')\n",
        "plt.show()"
      ],
      "metadata": {
        "id": "2V4cdy3qLfoG"
      },
      "execution_count": null,
      "outputs": []
    },
    {
      "cell_type": "code",
      "source": [
        "#activity\n",
        "\n",
        "df = pd.read_csv(\"\") #csv file path for activity\n",
        "#using seabon for kernel density estimate\n",
        "# Plotting the KDE with hour limits and applying weights\n",
        "sns.kdeplot(x=df['hour'], weights=df['density'], bw_adjust=0.5, clip=(0, 23))\n",
        "# Setting labels and title\n",
        "plt.xlabel('Hour of the day (24h)')\n",
        "plt.ylabel('Detection Density')\n",
        "#plt.title('Kernel Density Estimation of Hourly Density')\n",
        "plt.savefig(\"activity.svg\", format='svg')\n",
        "# Show the plot\n",
        "plt.show()"
      ],
      "metadata": {
        "id": "XdtVtxtALpXi"
      },
      "execution_count": null,
      "outputs": []
    },
    {
      "cell_type": "code",
      "source": [
        "#community\n",
        "\n",
        "df = pd.read_csv(\"\") #csv file path for community\n",
        "# Plot the data as a bar plot\n",
        "plt.figure(figsize=(10, 6))\n",
        "plt.bar(df[\"Site\"], df[\"Shannon\"], color='red')\n",
        "#plt.title('Occupancy Probability')\n",
        "plt.xlabel('Camera trap sites with impala detected')\n",
        "plt.ylabel('Shannon diversity index')\n",
        "plt.xticks(rotation=90)\n",
        "plt.tight_layout()\n",
        "plt.savefig(\"community.svg\", format='svg')\n",
        "plt.show()"
      ],
      "metadata": {
        "id": "O3qAyIdgLzhC"
      },
      "execution_count": null,
      "outputs": []
    },
    {
      "cell_type": "code",
      "source": [
        "#abundance\n",
        "\n",
        "df = pd.read_csv(\"\") #csv file path for abundance\n",
        "# Scatter plot for human vs impala\n",
        "plt.figure(figsize=(10, 6))\n",
        "neon_pink = (1, 0.4, 1)\n",
        "sns.scatterplot(x='Impala', y='Human', data=df, label='Humans', color=neon_pink)\n",
        "\n",
        "# Fit linear regression and plot line of best fit for human\n",
        "model_h = LinearRegression()\n",
        "model_h.fit(df[['Impala']], df['Human'])\n",
        "pred_h = model_h.predict(df[['Impala']])\n",
        "plt.plot(df['Impala'], pred_h, color=neon_pink)\n",
        "\n",
        "# Calculate R-squared for human\n",
        "r2_h = r2_score(df['Human'], pred_h)\n",
        "\n",
        "# Scatter plot for hyena vs impala with legend label as \"Spotted Hyena\"\n",
        "dark_brown = \"#8B4513\"\n",
        "sns.scatterplot(x='Impala', y='Hyena', data=df, label='Spotted Hyenas', color=dark_brown)\n",
        "\n",
        "# Fit linear regression and plot line of best fit for hyena\n",
        "model_y = LinearRegression()\n",
        "model_y.fit(df[['Impala']], df['Hyena'])\n",
        "pred_y = model_y.predict(df[['Impala']])\n",
        "plt.plot(df['Impala'], pred_y, color=dark_brown)\n",
        "\n",
        "# Calculate R-squared for hyena\n",
        "r2_y = r2_score(df['Hyena'], pred_y)\n",
        "\n",
        "# Create legend\n",
        "plt.legend()\n",
        "\n",
        "# Position R-squared text right underneath the legend\n",
        "#plt.text(2.5, 0.5, f'R-squared (Human): {r2_h:.2f}', color='purple', ha='center', va='center')\n",
        "#plt.text(2.5, 0.45, f'R-squared (Hyena): {r2_y:.2f}', color='brown', ha='center', va='center')\n",
        "\n",
        "# Set plot labels and title\n",
        "plt.xlabel('Relative abundance index(Impala)')\n",
        "plt.ylabel('Relative abundance index')\n",
        "#plt.title('Scatter Plot: Impala vs Human & Hyena')\n",
        "plt.savefig(\"abundance.svg\", format='svg')\n",
        "# Show plot\n",
        "plt.show()"
      ],
      "metadata": {
        "id": "7Ww3DrxGL4sh"
      },
      "execution_count": null,
      "outputs": []
    }
  ]
}
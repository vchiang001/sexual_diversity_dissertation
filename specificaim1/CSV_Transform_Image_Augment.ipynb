{
  "nbformat": 4,
  "nbformat_minor": 0,
  "metadata": {
    "colab": {
      "provenance": [],
      "authorship_tag": "ABX9TyOr4w1JQHKLeNOzzFVczKWr",
      "include_colab_link": true
    },
    "kernelspec": {
      "name": "python3",
      "display_name": "Python 3"
    },
    "language_info": {
      "name": "python"
    }
  },
  "cells": [
    {
      "cell_type": "markdown",
      "metadata": {
        "id": "view-in-github",
        "colab_type": "text"
      },
      "source": [
        "<a href=\"https://colab.research.google.com/github/vchiang001/sexual_diversity_dissertation/blob/main/CSV_Transform_Image_Augment.ipynb\" target=\"_parent\"><img src=\"https://colab.research.google.com/assets/colab-badge.svg\" alt=\"Open In Colab\"/></a>"
      ]
    },
    {
      "cell_type": "code",
      "execution_count": null,
      "metadata": {
        "id": "FBiaKS0OCiUY"
      },
      "outputs": [],
      "source": [
        "import csv\n",
        "import os\n",
        "import pandas as pd\n",
        "import numpy as np"
      ]
    },
    {
      "cell_type": "code",
      "source": [
        "def mult_coord(multiply, csv_file_path):\n",
        "    dlc_df = pd.read_csv(csv_file_path)\n",
        "    dlc_df_coord = dlc_df[3:] #only the coordinates, without the titles\n",
        "    header = dlc_df_coord.columns.tolist() #put the headers to a list\n",
        "    header_coord = header[3:] #only the headers with the coordinates\n",
        "    dlc_df_coord2 = dlc_df_coord[header_coord] #df with just the coordinate values\n",
        "    print(\"dlc_df_coord2\")\n",
        "    print(dlc_df_coord2)\n",
        "    ### multiply by a specific number all the values\n",
        "    dlc_df_coord3 = dlc_df_coord2.astype(float) #change all strings into floats\n",
        "    dlc_df_coord_mult_pre = dlc_df_coord3.mul(multiply) #multiply by the number\n",
        "    dlc_df_coord_mult = dlc_df_coord_mult_pre.fillna('')\n",
        "    print('dlc_df_coord_mult')\n",
        "    print(dlc_df_coord_mult)\n",
        "    return(dlc_df_coord_mult)"
      ],
      "metadata": {
        "id": "w0Hj6tZ2CzxD"
      },
      "execution_count": null,
      "outputs": []
    },
    {
      "cell_type": "code",
      "source": [
        "\n",
        "##parameters to use for the function\n",
        "root_directory = 'labeled-data' # Define the root directory to start the search\n",
        "multiply = 0.2  # The specific number to multiply"
      ],
      "metadata": {
        "id": "RW5g23BxC22d"
      },
      "execution_count": null,
      "outputs": []
    },
    {
      "cell_type": "code",
      "source": [
        "##recursive search through directories for csv to perform function\n",
        "for root, dirs, files in os.walk(root_directory):\n",
        "    for file in files:\n",
        "        if file.endswith('.csv'):  # Consider only CSV files\n",
        "            csv_file_path = os.path.join(root, file)\n",
        "            print(csv_file_path)\n",
        "            # Create a temporary file to store the updated values\n",
        "            temp_file_path = os.path.join(root, 'temp.csv') #create a temporary file\n",
        "            # Open the input CSV file\n",
        "            dlc_df_coord_mult = mult_coord(multiply, csv_file_path)\n",
        "            print('dlc_df_coord_mult to be written')\n",
        "            print(dlc_df_coord_mult)\n",
        "            with open(temp_file_path, 'w', newline='') as temp_file:\n",
        "                writer = csv.writer(temp_file)\n",
        "                print('writing dlc_df_coord_mult.columns')\n",
        "                print(dlc_df_coord_mult.columns)\n",
        "                writer.writerows([dlc_df_coord_mult.columns]) #writes the header of the temp file\n",
        "                print('writing dlc_df_coord_mult.values')\n",
        "                print(dlc_df_coord_mult.values)\n",
        "                writer.writerows(dlc_df_coord_mult.values) #writes the values to the temp file"
      ],
      "metadata": {
        "id": "hKz6W8CLC6GW"
      },
      "execution_count": null,
      "outputs": []
    }
  ]
}

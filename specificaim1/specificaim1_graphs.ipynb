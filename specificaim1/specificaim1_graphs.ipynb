{
  "nbformat": 4,
  "nbformat_minor": 0,
  "metadata": {
    "colab": {
      "provenance": [],
      "authorship_tag": "ABX9TyPawygYP+pkgsyeNieH0MTA",
      "include_colab_link": true
    },
    "kernelspec": {
      "name": "python3",
      "display_name": "Python 3"
    },
    "language_info": {
      "name": "python"
    }
  },
  "cells": [
    {
      "cell_type": "markdown",
      "metadata": {
        "id": "view-in-github",
        "colab_type": "text"
      },
      "source": [
        "<a href=\"https://colab.research.google.com/github/vchiang001/sexual_diversity_dissertation/blob/main/specificaim1_graphs.ipynb\" target=\"_parent\"><img src=\"https://colab.research.google.com/assets/colab-badge.svg\" alt=\"Open In Colab\"/></a>"
      ]
    },
    {
      "cell_type": "code",
      "source": [
        "import pandas as pd\n",
        "import numpy as np\n",
        "import matplotlib.pyplot as plt"
      ],
      "metadata": {
        "id": "qepesn-nvhEq"
      },
      "execution_count": null,
      "outputs": []
    },
    {
      "cell_type": "markdown",
      "source": [
        "###Training Curves"
      ],
      "metadata": {
        "id": "eRBjiiebvebN"
      }
    },
    {
      "cell_type": "code",
      "execution_count": null,
      "metadata": {
        "id": "2Lg5h0olvLS2"
      },
      "outputs": [],
      "source": [
        "#Load data\n",
        "data = pd.read_csv('/content/drive/MyDrive/BEHAVIOMICS/SpecificAim1/202404_visualisations/python_sa1_trainingcurve.csv')\n",
        "iterations = data['Iteration']\n",
        "loss = data['loss']\n",
        "scmap_loss = data['scmap_loss']\n",
        "locref_loss = data['locref_loss']\n",
        "limb_loss = data['limb_loss']"
      ]
    },
    {
      "cell_type": "code",
      "source": [
        "#Plot data\n",
        "plt.figure(figsize=(10, 6))\n",
        "plt.scatter(iterations, loss, label='loss')\n",
        "plt.scatter(iterations, scmap_loss, label='scmap_loss')\n",
        "plt.scatter(iterations, locref_loss, label='locref_loss')\n",
        "plt.scatter(iterations, limb_loss, label='limb_loss')\n",
        "plt.xlabel('Iterations')\n",
        "plt.ylabel('Loss')\n",
        "plt.legend()\n",
        "plt.savefig('plot.png', bbox_inches='tight')\n",
        "plt.savefig('plot.svg', format='svg', bbox_inches='tight')\n",
        "plt.show()"
      ],
      "metadata": {
        "id": "Ba_2GacZvozI"
      },
      "execution_count": null,
      "outputs": []
    },
    {
      "cell_type": "markdown",
      "source": [
        "###Mean average Euclidean error of bodyparts"
      ],
      "metadata": {
        "id": "L5x6k6wovwMH"
      }
    },
    {
      "cell_type": "code",
      "source": [
        "#Load data\n",
        "data = pd.read_csv('/content/drive/MyDrive/BEHAVIOMICS/SpecificAim1/202404_visualisations/python_bodypart_rmse.csv')\n",
        "bodyparts = data['bodypart']\n",
        "train_values = data['train']\n",
        "test_values = data['test']"
      ],
      "metadata": {
        "id": "Tj6nmtdmvzvV"
      },
      "execution_count": null,
      "outputs": []
    },
    {
      "cell_type": "code",
      "source": [
        "#Plot data\n",
        "x = np.arange(len(bodyparts))\n",
        "bar_width = 0.35\n",
        "plt.figure(figsize=(10, 6))\n",
        "plt.bar(x - bar_width/2, train_values, color='blue', width=bar_width, label='Train')\n",
        "plt.bar(x + bar_width/2, test_values, color='orange', width=bar_width, label='Test')\n",
        "plt.xlabel('Bodyparts')\n",
        "plt.ylabel('Mean Average Euclidean Error (pixels)')\n",
        "plt.xticks(x, bodyparts, rotation=90)\n",
        "plt.legend()\n",
        "plt.savefig('bar_plot.png', bbox_inches='tight')\n",
        "plt.savefig('bar_plot.svg', format='svg', bbox_inches='tight')\n",
        "plt.show()"
      ],
      "metadata": {
        "id": "K4bJgBDsv69f"
      },
      "execution_count": null,
      "outputs": []
    },
    {
      "cell_type": "markdown",
      "source": [
        "###In domain classifier performance metrics"
      ],
      "metadata": {
        "id": "bsCDYiZ6wHZD"
      }
    },
    {
      "cell_type": "code",
      "source": [
        "#Load data\n",
        "data = pd.read_csv('/content/drive/MyDrive/BEHAVIOMICS/SpecificAim1/202404_visualisations/python_EJclass_indomain.csv')\n",
        "metrics = list(data.columns)\n",
        "values = data.values[0]"
      ],
      "metadata": {
        "id": "l4h0nyQKwJRB"
      },
      "execution_count": null,
      "outputs": []
    },
    {
      "cell_type": "code",
      "source": [
        "#Plot data\n",
        "plt.figure(figsize=(8, 6))\n",
        "plt.bar(metrics, values, color='maroon', width=0.4)\n",
        "plt.ylabel(\"Performance\")\n",
        "plt.ylim(0, 1.0)\n",
        "plt.savefig('performance_plot.svg', format='svg')\n",
        "plt.show()"
      ],
      "metadata": {
        "id": "SoGu83HVwO9_"
      },
      "execution_count": null,
      "outputs": []
    },
    {
      "cell_type": "markdown",
      "source": [
        "###Out of domain classifier performance metrics"
      ],
      "metadata": {
        "id": "I1uwFR7ewYj0"
      }
    },
    {
      "cell_type": "code",
      "source": [
        "#Load data\n",
        "data = pd.read_csv('/content/drive/MyDrive/BEHAVIOMICS/SpecificAim1/202404_visualisations/python_EJclass_ood.csv')\n",
        "\n",
        "Parameters1 = data['parameter1'].iloc[[0, 2, 4]].tolist()\n",
        "Parameters2 = data['parameter2'].iloc[[0, 2, 4]].tolist()\n",
        "Parameters3 = data['parameter3'].iloc[[0, 2, 4]].tolist()\n",
        "Parameters4 = data['parameter4'].iloc[[0, 2, 4]].tolist()\n",
        "Parameters1_yerr = data['parameter1'].iloc[[1, 3, 5]].tolist()\n",
        "Parameters2_yerr = data['parameter2'].iloc[[1, 3, 5]].tolist()\n",
        "Parameters3_yerr = data['parameter3'].iloc[[1, 3, 5]].tolist()\n",
        "Parameters4_yerr = data['parameter4'].iloc[[1, 3, 5]].tolist()"
      ],
      "metadata": {
        "id": "rNiPtWy1watP"
      },
      "execution_count": null,
      "outputs": []
    },
    {
      "cell_type": "code",
      "source": [
        "#Plot data\n",
        "barWidth = 0.20\n",
        "\n",
        "br1 = np.arange(len(Parameters1))\n",
        "br2 = [x + barWidth for x in br1]\n",
        "br3 = [x + barWidth for x in br2]\n",
        "br4 = [x + barWidth for x in br3]\n",
        "\n",
        "plt.bar(br1, Parameters1, color ='r', width = barWidth,\n",
        "        edgecolor ='grey', label ='Parameters1', yerr=Parameters1_yerr)\n",
        "plt.bar(br2, Parameters2, color ='g', width = barWidth,\n",
        "        edgecolor ='grey', label ='Parameters2', yerr=Parameters2_yerr)\n",
        "plt.bar(br3, Parameters3, color ='b', width = barWidth,\n",
        "        edgecolor ='grey', label ='Parameters3', yerr=Parameters3_yerr)\n",
        "plt.bar(br4, Parameters4, color ='purple', width = barWidth,\n",
        "        edgecolor ='grey', label ='Parameters4', yerr=Parameters4_yerr)\n",
        "\n",
        "plt.ylabel('Performance')\n",
        "plt.xticks([r + barWidth + 0.1 for r in range(len(Parameters1))],\n",
        "        ['Recall', 'Precision', 'F1'])\n",
        "plt.legend()\n",
        "plt.ylim(0, 1.0)\n",
        "plt.savefig('performance_plot.svg', format='svg')\n",
        "plt.show()\n"
      ],
      "metadata": {
        "id": "rM8eRLgVweWk"
      },
      "execution_count": null,
      "outputs": []
    },
    {
      "cell_type": "markdown",
      "source": [
        "###Out of domain classifier time metrics"
      ],
      "metadata": {
        "id": "wsqNbpR7wsdY"
      }
    },
    {
      "cell_type": "code",
      "source": [
        "#Load data\n",
        "data = pd.read_csv('/content/drive/MyDrive/BEHAVIOMICS/SpecificAim1/202404_visualisations/python_MItime_ood.csv')\n",
        "\n",
        "Parameters1 = data['parameter1'].iloc[[0, 2]].tolist()\n",
        "Parameters2 = data['parameter2'].iloc[[0, 2]].tolist()\n",
        "Parameters3 = data['parameter3'].iloc[[0, 2]].tolist()\n",
        "Parameters4 = data['parameter4'].iloc[[0, 2]].tolist()\n",
        "Parameters1_yerr = data['parameter1'].iloc[[1, 3]].tolist()\n",
        "Parameters2_yerr = data['parameter2'].iloc[[1, 3]].tolist()\n",
        "Parameters3_yerr = data['parameter3'].iloc[[1, 3]].tolist()\n",
        "Parameters4_yerr = data['parameter4'].iloc[[1, 3]].tolist()"
      ],
      "metadata": {
        "id": "-xxZIvONwmFO"
      },
      "execution_count": null,
      "outputs": []
    },
    {
      "cell_type": "code",
      "source": [
        "#Plot data\n",
        "barWidth = 0.20\n",
        "\n",
        "br1 = np.arange(len(Parameters1))\n",
        "br2 = [x + barWidth for x in br1]\n",
        "br3 = [x + barWidth for x in br2]\n",
        "br4 = [x + barWidth for x in br3]\n",
        "\n",
        "plt.bar(br1, Parameters1, color ='r', width = barWidth,\n",
        "        edgecolor ='grey', label ='Parameters1', yerr=Parameters1_yerr)\n",
        "plt.bar(br2, Parameters2, color ='g', width = barWidth,\n",
        "        edgecolor ='grey', label ='Parameters2', yerr=Parameters2_yerr)\n",
        "plt.bar(br3, Parameters3, color ='b', width = barWidth,\n",
        "        edgecolor ='grey', label ='Parameters3', yerr=Parameters3_yerr)\n",
        "plt.bar(br4, Parameters4, color ='purple', width = barWidth,\n",
        "        edgecolor ='grey', label ='Parameters4', yerr=Parameters4_yerr)\n",
        "\n",
        "plt.ylabel('% error to ground truth')\n",
        "plt.xticks([r + barWidth + 0.1 for r in range(len(Parameters1))],\n",
        "        ['Duration', 'Latency'])\n",
        "plt.legend()\n",
        "plt.ylim(0, 100)\n",
        "plt.savefig('time_plot.svg', format='svg')\n",
        "plt.show()"
      ],
      "metadata": {
        "id": "kC146SQkwwpo"
      },
      "execution_count": null,
      "outputs": []
    }
  ]
}

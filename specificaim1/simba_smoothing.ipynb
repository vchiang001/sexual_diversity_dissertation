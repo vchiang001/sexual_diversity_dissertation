{
  "nbformat": 4,
  "nbformat_minor": 0,
  "metadata": {
    "colab": {
      "provenance": [],
      "authorship_tag": "ABX9TyPcMGAw6NxqOQPZp7eunSjA",
      "include_colab_link": true
    },
    "kernelspec": {
      "name": "python3",
      "display_name": "Python 3"
    },
    "language_info": {
      "name": "python"
    }
  },
  "cells": [
    {
      "cell_type": "markdown",
      "metadata": {
        "id": "view-in-github",
        "colab_type": "text"
      },
      "source": [
        "<a href=\"https://colab.research.google.com/github/vchiang001/sexual_diversity_dissertation/blob/main/simba_smoothing.ipynb\" target=\"_parent\"><img src=\"https://colab.research.google.com/assets/colab-badge.svg\" alt=\"Open In Colab\"/></a>"
      ]
    },
    {
      "cell_type": "code",
      "execution_count": null,
      "metadata": {
        "id": "FoTbyE57XLIw"
      },
      "outputs": [],
      "source": [
        "import pandas as pd\n",
        "import os"
      ]
    },
    {
      "cell_type": "code",
      "source": [
        "mi_succ = 100 #set rolling window (mount_intromit)\n",
        "mi_ratio = 0.3 #set as ratio of frames indicating presence of behaviour (mount_intromit)\n",
        "ej_succ = 100 #set rolling window (ejaculate)\n",
        "ej_ratio = 0.3 #set as ratio of frames indicating presence of behaviour (ejaculate)\n",
        "machine_directory = '/content/drive/MyDrive/BEHAVIOMICS/SpecificAim1/lowres_simba'"
      ],
      "metadata": {
        "id": "IXotfQUfXwBq"
      },
      "execution_count": null,
      "outputs": []
    },
    {
      "cell_type": "code",
      "source": [
        "#function to smooth the data\n",
        "def transform_data(data, succ, ratio):\n",
        "    transformed_data = []\n",
        "    prev_value = None\n",
        "    for i in range(len(data)):\n",
        "        if data[i] == 1:\n",
        "            if i == 0:\n",
        "                if sum(data[i:i + succ]) < ratio * succ:\n",
        "                    transformed_data.append(0)\n",
        "                else:\n",
        "                    transformed_data.append(1)\n",
        "            elif prev_value != 1:\n",
        "                transformed_data.append(0)\n",
        "            elif sum(data[i:i + succ]) < ratio * succ:\n",
        "                transformed_data.append(0)\n",
        "            else:\n",
        "                transformed_data.append(1)\n",
        "        elif data[i] == 0:\n",
        "            if i != 0:\n",
        "                if sum(data[i:i + succ]) > ratio * succ:\n",
        "                    transformed_data.append(1)\n",
        "                else:\n",
        "                    transformed_data.append(0)\n",
        "            elif prev_value == 1:\n",
        "                transformed_data.append(1)\n",
        "            elif sum(data[i:i + succ]) > ratio * succ:\n",
        "                transformed_data.append(1)\n",
        "            else:\n",
        "                transformed_data.append(0)\n",
        "        prev_value = transformed_data[-1]\n",
        "    return transformed_data"
      ],
      "metadata": {
        "id": "gv9EPktrXdFK"
      },
      "execution_count": null,
      "outputs": []
    },
    {
      "cell_type": "code",
      "source": [
        "# Iterate over each file in the directory\n",
        "for file_name in os.listdir(machine_directory):\n",
        "    # Check if the file is a CSV file\n",
        "    if file_name.endswith(\".csv\"):\n",
        "        print(file_name)\n",
        "        df = pd.read_csv(os.path.join(machine_directory, file_name))\n",
        "\n",
        "        #Smoothing MI\n",
        "        extracted_data = df.loc[:8516, \"mount_intromit\"]\n",
        "        print(extracted_data)\n",
        "        transformed_data = transform_data(data=extracted_data, succ=mi_succ, ratio=mi_ratio)\n",
        "        transformed_df = pd.DataFrame(transformed_data, columns=['transformed_data'])\n",
        "        print(transformed_df)\n",
        "        transformed_data_values = transformed_df['transformed_data'].values\n",
        "        transformed_data_values_adjusted = transformed_data_values[:8516]\n",
        "        df.loc[:8515, \"mount_intromit\"] = transformed_data_values_adjusted\n",
        "\n",
        "        #Smoothing EJ\n",
        "        extracted_data = df.loc[:8516, \"ejaculate\"]\n",
        "        print(extracted_data)\n",
        "        transformed_data = transform_data(data=extracted_data, succ=ej_succ, ratio=ej_ratio)\n",
        "        transformed_df = pd.DataFrame(transformed_data, columns=['transformed_data'])\n",
        "        print(transformed_df)\n",
        "        transformed_data_values = transformed_df['transformed_data'].values\n",
        "        transformed_data_values_adjusted = transformed_data_values[:8516]\n",
        "        df.loc[:8515, \"ejaculate\"] = transformed_data_values_adjusted\n",
        "\n",
        "        # Save the DataFrame to a CSV file with the corresponding file name\n",
        "        df.to_csv(\"/content/drive/MyDrive/BEHAVIOMICS/SpecificAim1/lowres_simba_transformed/\" + file_name, index=False)"
      ],
      "metadata": {
        "id": "0dJHOa_GX8wv"
      },
      "execution_count": null,
      "outputs": []
    }
  ]
}

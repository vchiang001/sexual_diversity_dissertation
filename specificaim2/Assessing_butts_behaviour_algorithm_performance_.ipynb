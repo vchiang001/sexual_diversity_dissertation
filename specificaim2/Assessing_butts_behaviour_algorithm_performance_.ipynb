{
  "nbformat": 4,
  "nbformat_minor": 0,
  "metadata": {
    "colab": {
      "provenance": [],
      "mount_file_id": "1udmTJAlCQo3EOukwcFqMzz9BL1vRnI4i",
      "authorship_tag": "ABX9TyMUScTHStnaX7OJVJbkO9Yq",
      "include_colab_link": true
    },
    "kernelspec": {
      "name": "python3",
      "display_name": "Python 3"
    },
    "language_info": {
      "name": "python"
    }
  },
  "cells": [
    {
      "cell_type": "markdown",
      "metadata": {
        "id": "view-in-github",
        "colab_type": "text"
      },
      "source": [
        "<a href=\"https://colab.research.google.com/github/vchiang001/sexual_diversity_dissertation/blob/main/Assessing_butts_behaviour_algorithm_performance_.ipynb\" target=\"_parent\"><img src=\"https://colab.research.google.com/assets/colab-badge.svg\" alt=\"Open In Colab\"/></a>"
      ]
    },
    {
      "cell_type": "code",
      "execution_count": null,
      "metadata": {
        "id": "ifvIBNPYIsKT"
      },
      "outputs": [],
      "source": [
        "import pandas as pd\n",
        "from shapely.geometry import Polygon\n",
        "from shapely.geometry import Point\n",
        "import os"
      ]
    },
    {
      "cell_type": "code",
      "source": [
        "def butts(unpickle, velocity, confidence, side, vel_thresh, coord1, coord2, coord3, coord4, vel_wndw):\n",
        "    bounding_box_polygon = Polygon([coord1, coord2, coord3, coord4])\n",
        "\n",
        "    df_vel = pd.read_csv(velocity, index_col=0, header=list(range(3)))\n",
        "    for col_name in df_vel.columns:\n",
        "        if \"likelihood\" in col_name[2]:\n",
        "            x_col = (col_name[0], col_name[1], 'x')\n",
        "            y_col = (col_name[0], col_name[1], 'y')\n",
        "            df_vel.loc[df_vel[col_name] < confidence, [x_col, y_col]] = float('nan')\n",
        "\n",
        "    unpickle_df = pd.read_csv(unpickle, index_col=0, header=list(range(3)))\n",
        "    for col_name in unpickle_df.columns:\n",
        "        if \"likelihood\" in col_name[2]:\n",
        "            x_col = (col_name[0], col_name[1], 'x')\n",
        "            y_col = (col_name[0], col_name[1], 'y')\n",
        "\n",
        "            unpickle_df.loc[unpickle_df[col_name] < confidence, [x_col, y_col]] = float('nan')\n",
        "\n",
        "    butts_per_bodypart_df = pd.DataFrame(index=unpickle_df.index, columns=unpickle_df.columns.levels[1])\n",
        "    prev_x_list = []\n",
        "\n",
        "    for column in unpickle_df.columns:\n",
        "        if 'x' in column:\n",
        "            x_column = column\n",
        "            y_column = (column[0], column[1], 'y')\n",
        "            for index, row in unpickle_df.iterrows():\n",
        "                if bounding_box_polygon.contains(Point(row[x_column], row[y_column])):\n",
        "                    if prev_x_list:\n",
        "                        if side == \"left\":\n",
        "                            if any(prev_x < row[x_column] for prev_x in prev_x_list):\n",
        "                                x_vel_column = ('vscc', column[1], 'x')\n",
        "                                y_vel_column = ('vscc', column[1], 'y')\n",
        "                                x_vel = df_vel.at[index, x_vel_column]\n",
        "                                y_vel = df_vel.at[index, y_vel_column]\n",
        "                                if float(x_vel) > vel_thresh and float(y_vel) > vel_thresh:\n",
        "                                    butts_per_bodypart_df[column[1]][index] = 1\n",
        "                        elif side == \"right\":\n",
        "                            if any(prev_x > row[x_column] for prev_x in prev_x_list):\n",
        "                                x_vel_column = ('vscc', column[1], 'x')\n",
        "                                y_vel_column = ('vscc', column[1], 'y')\n",
        "                                x_vel = df_vel.at[index, x_vel_column]\n",
        "                                y_vel = df_vel.at[index, y_vel_column]\n",
        "                                if float(x_vel) > vel_thresh and float(y_vel) > vel_thresh:\n",
        "                                    butts_per_bodypart_df[column[1]][index] = 1\n",
        "                    prev_x_list.append(row[x_column])\n",
        "                    prev_x_list = prev_x_list[-vel_wndw:]\n",
        "\n",
        "    butts_df = pd.DataFrame(index=butts_per_bodypart_df.index, columns=['butts'])\n",
        "\n",
        "    for index, row in butts_per_bodypart_df.iterrows():\n",
        "        if 1 in row.values:\n",
        "            butts_df.at[index, 'butts'] = 1\n",
        "        else:\n",
        "            butts_df.at[index, 'butts'] = 0\n",
        "\n",
        "    seconds_df = butts_df.groupby(butts_df.index // 30).any().astype(int)\n",
        "\n",
        "    return seconds_df"
      ],
      "metadata": {
        "id": "-MvWJmS2Jks9"
      },
      "execution_count": null,
      "outputs": []
    },
    {
      "cell_type": "code",
      "source": [
        "def roi(file_name, roi_df):\n",
        "    coords = roi_df[file_name].tolist()\n",
        "    coord1 = (coords[0], coords[1])\n",
        "    coord2 = (coords[2], coords[3])\n",
        "    coord3 = (coords[4], coords[5])\n",
        "    coord4 = (coords[6], coords[7])\n",
        "    return coord1, coord2, coord3, coord4"
      ],
      "metadata": {
        "id": "irPqez-AJng-"
      },
      "execution_count": null,
      "outputs": []
    },
    {
      "cell_type": "code",
      "source": [
        "# Define the folder paths\n",
        "unpickle_folder_path = \"/content/drive/MyDrive/unpickle\"\n",
        "velocity_folder_path = \"/content/drive/MyDrive/velocity\"\n",
        "roi_csv_path = \"/content/drive/MyDrive/roi.csv\"\n",
        "manual = \"/content/drive/MyDrive//manual_butts.csv\"\n",
        "directory_path = '/content/drive/MyDrive/tuning_butts'\n",
        "confidence = 0.4\n",
        "vel_thresh = 35\n",
        "vel_wndw = 35"
      ],
      "metadata": {
        "id": "ld_vz7wuJqMM"
      },
      "execution_count": null,
      "outputs": []
    },
    {
      "cell_type": "code",
      "source": [
        "roi_df = pd.read_csv(roi_csv_path, index_col=0)\n",
        "manual = pd.read_csv(manual)\n",
        "machine_df = pd.DataFrame()"
      ],
      "metadata": {
        "id": "_bODEPSlJv0X"
      },
      "execution_count": null,
      "outputs": []
    },
    {
      "cell_type": "code",
      "source": [
        "for filename in os.listdir(unpickle_folder_path):\n",
        "    file_name = os.path.splitext(filename)[0]\n",
        "    side = \"left\" if \"L\" in file_name else \"right\"\n",
        "    unpickle_file_path = os.path.join(unpickle_folder_path, filename)\n",
        "    velocity_file_path = os.path.join(velocity_folder_path, f\"{file_name}.csv\")\n",
        "    coord1, coord2, coord3, coord4 = roi(file_name, roi_df)\n",
        "    seconds_df = butts(unpickle=unpickle_file_path,\n",
        "                      velocity=velocity_file_path,\n",
        "                      confidence=confidence,\n",
        "                      side=side,\n",
        "                      vel_thresh=vel_thresh,\n",
        "                      coord1=coord1,\n",
        "                      coord2=coord2,\n",
        "                      coord3=coord3,\n",
        "                      coord4=coord4,\n",
        "                      vel_wndw=vel_wndw)\n",
        "    seconds_df.rename(columns={\"butts\": file_name}, inplace=True)\n",
        "\n",
        "    machine_df = pd.concat([machine_df, seconds_df], axis=1)\n",
        "\n",
        "index_label = f'vel_thresh{vel_thresh}vel_wndw{vel_wndw}'\n",
        "machine_df = machine_df.apply(pd.to_numeric, errors='coerce')\n",
        "machine_df = machine_df.fillna(0)\n",
        "print(machine_df)\n",
        "manual = manual.apply(pd.to_numeric, errors='coerce')\n",
        "manual = manual.fillna(0)\n",
        "print(manual)\n",
        "\n",
        "machine_df.to_csv(f\"{directory_path}/vel_thresh{vel_thresh}vel_wndw{vel_wndw}_machine.csv\")"
      ],
      "metadata": {
        "colab": {
          "base_uri": "https://localhost:8080/"
        },
        "id": "LSi1YNylJxqX",
        "outputId": "98ff77bf-3e6f-4b73-b8be-e016893a040b"
      },
      "execution_count": null,
      "outputs": [
        {
          "output_type": "stream",
          "name": "stdout",
          "text": [
            "      5R   3R   3L   2R  1R   2L  1L   4R   5L   4L\n",
            "0    0.0  0.0  0.0  0.0   0  0.0   0  0.0  0.0  0.0\n",
            "1    0.0  0.0  0.0  0.0   0  0.0   0  0.0  0.0  0.0\n",
            "2    0.0  0.0  0.0  0.0   0  0.0   0  0.0  0.0  0.0\n",
            "3    0.0  0.0  0.0  0.0   0  0.0   0  0.0  0.0  0.0\n",
            "4    0.0  0.0  0.0  0.0   0  0.0   0  0.0  0.0  0.0\n",
            "..   ...  ...  ...  ...  ..  ...  ..  ...  ...  ...\n",
            "351  0.0  0.0  0.0  0.0   0  0.0   0  0.0  0.0  0.0\n",
            "352  0.0  0.0  0.0  0.0   0  0.0   0  0.0  0.0  0.0\n",
            "353  0.0  0.0  0.0  0.0   0  0.0   0  0.0  0.0  0.0\n",
            "354  0.0  0.0  0.0  0.0   0  0.0   0  0.0  0.0  0.0\n",
            "355  0.0  0.0  0.0  0.0   0  0.0   0  0.0  0.0  0.0\n",
            "\n",
            "[356 rows x 10 columns]\n",
            "      1L   1R   2L   2R   3L   3R   4L   4R   5L   5R\n",
            "0    0.0  0.0  0.0  0.0  0.0  0.0  0.0  0.0  0.0  0.0\n",
            "1    0.0  0.0  0.0  0.0  0.0  0.0  0.0  0.0  0.0  0.0\n",
            "2    0.0  0.0  0.0  0.0  0.0  0.0  0.0  0.0  0.0  0.0\n",
            "3    0.0  0.0  0.0  0.0  0.0  0.0  0.0  0.0  0.0  0.0\n",
            "4    1.0  0.0  0.0  0.0  0.0  0.0  0.0  0.0  0.0  0.0\n",
            "..   ...  ...  ...  ...  ...  ...  ...  ...  ...  ...\n",
            "356  0.0  0.0  0.0  0.0  0.0  0.0  0.0  0.0  0.0  0.0\n",
            "357  0.0  0.0  0.0  0.0  0.0  0.0  0.0  0.0  0.0  0.0\n",
            "358  0.0  0.0  0.0  0.0  0.0  0.0  0.0  0.0  0.0  0.0\n",
            "359  0.0  0.0  0.0  0.0  0.0  0.0  0.0  0.0  0.0  0.0\n",
            "360  0.0  0.0  0.0  0.0  0.0  0.0  0.0  0.0  0.0  0.0\n",
            "\n",
            "[361 rows x 10 columns]\n"
          ]
        }
      ]
    },
    {
      "cell_type": "code",
      "source": [
        "def calculate_precision(machine, manual, index_label):\n",
        "    precision_dict = {}\n",
        "    for column in machine.columns:\n",
        "        true_positives = ((machine[column] == 1) & (manual[column] == 1)).sum()\n",
        "        false_positives = ((machine[column] == 1) & (manual[column] == 0)).sum()\n",
        "\n",
        "        if true_positives + false_positives == 0:\n",
        "            precision = 0\n",
        "        else:\n",
        "            precision = true_positives / (true_positives + false_positives)\n",
        "\n",
        "        precision_dict[column] = precision\n",
        "\n",
        "    return pd.DataFrame.from_dict({index_label: precision_dict}, orient='index')\n",
        "\n",
        "\n",
        "def calculate_recall(machine, manual, index_label):\n",
        "\n",
        "    recall_dict = {}\n",
        "    for column in machine.columns:\n",
        "        true_positives = ((machine[column] == 1) & (manual[column] == 1)).sum()\n",
        "        false_negatives = ((machine[column] == 0) & (manual[column] == 1)).sum()\n",
        "\n",
        "        if true_positives + false_negatives == 0:\n",
        "            recall = 0\n",
        "        else:\n",
        "            recall = true_positives / (true_positives + false_negatives)\n",
        "\n",
        "        recall_dict[column] = recall\n",
        "    return pd.DataFrame.from_dict({index_label: recall_dict}, orient='index')"
      ],
      "metadata": {
        "id": "ZSsSU3sk2EcK"
      },
      "execution_count": null,
      "outputs": []
    },
    {
      "cell_type": "code",
      "source": [
        "precision_df_all = pd.DataFrame()\n",
        "recall_df_all = pd.DataFrame()\n",
        "\n",
        "precision_df = calculate_precision(machine_df, manual, index_label)\n",
        "print(precision_df)\n",
        "recall_df = calculate_recall(machine_df, manual, index_label)\n",
        "print(recall_df)"
      ],
      "metadata": {
        "id": "VRcCHwq72Tf-"
      },
      "execution_count": null,
      "outputs": []
    }
  ]
}

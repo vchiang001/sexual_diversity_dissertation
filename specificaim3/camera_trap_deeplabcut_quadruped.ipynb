{
  "nbformat": 4,
  "nbformat_minor": 0,
  "metadata": {
    "colab": {
      "provenance": [],
      "authorship_tag": "ABX9TyPg3/+o8vI9zVuzB6m2AO6v",
      "include_colab_link": true
    },
    "kernelspec": {
      "name": "python3",
      "display_name": "Python 3"
    },
    "language_info": {
      "name": "python"
    }
  },
  "cells": [
    {
      "cell_type": "markdown",
      "metadata": {
        "id": "view-in-github",
        "colab_type": "text"
      },
      "source": [
        "<a href=\"https://colab.research.google.com/github/vchiang001/sexual_diversity_dissertation/blob/main/camera_trap_deeplabcut_quadruped.ipynb\" target=\"_parent\"><img src=\"https://colab.research.google.com/assets/colab-badge.svg\" alt=\"Open In Colab\"/></a>"
      ]
    },
    {
      "cell_type": "markdown",
      "source": [
        "###Which images fulfill criteria"
      ],
      "metadata": {
        "id": "Gnlg_IOlTAhd"
      }
    },
    {
      "cell_type": "code",
      "execution_count": null,
      "metadata": {
        "id": "pQsClKhWPYtq"
      },
      "outputs": [],
      "source": [
        "###import packages\n",
        "import json\n",
        "import shutil\n",
        "import os"
      ]
    },
    {
      "cell_type": "code",
      "source": [
        "json_path = '' #<location of json file>\n",
        "mega_thresh = 0.01 #you can set it at a number between 0.0 – 1.0 (the higher the more confident)"
      ],
      "metadata": {
        "id": "1MyYOtV-RKHk"
      },
      "execution_count": null,
      "outputs": []
    },
    {
      "cell_type": "code",
      "source": [
        "with open(json_path, 'r') as f:\n",
        "    detection_results = json.load(f)\n",
        "\n",
        "mre2anim = []\n",
        "for img_data in detection_results['images']:\n",
        "    if len(img_data['detections']) >= 2:\n",
        "        anim_detect = 0\n",
        "        print(img_data['file'])\n",
        "        for detect in img_data['detections']:\n",
        "            if detect['category'] == '1' and detect['conf'] >= mega_thresh:\n",
        "                anim_detect += 1\n",
        "        if anim_detect >= 2:\n",
        "            mre2anim.append(img_data)#add the img name to a list or another file type\n",
        "print(\"number of image with more than 2 animals:\", len(mre2anim)) #list how many images fulfill this\n",
        "\n",
        "###from the list, find how many images with potentially interacting animals\n",
        "# function to check for bounding box overlaps\n",
        "def overlap(bbox1, bbox2):\n",
        "    #rectangle parameter of bbox1\n",
        "    width1 = bbox1[2]\n",
        "    height1 = bbox1[3]\n",
        "\n",
        "    #rectangle parameter of bbox2\n",
        "    width2 = bbox2[2]\n",
        "    height2 = bbox2[3]\n",
        "\n",
        "    #left btm of bbox1\n",
        "    if bbox2[0] <= bbox1[0] <= (bbox2[0] + width2) and \\\n",
        "        bbox2[1] <= bbox1[1] <= (bbox2[1] + height2):\n",
        "        return True\n",
        "\n",
        "    #left top of bbox1\n",
        "    if bbox2[0] <= bbox1[0] <= (bbox2[0] + width2) and \\\n",
        "        bbox2[1] <= (bbox1[1]+height1) <= (bbox2[1] + height2):\n",
        "        return True\n",
        "\n",
        "    #right btm of bbox1\n",
        "    if bbox2[0] <= (bbox1[0]+width1) <= (bbox2[0] + width2) and \\\n",
        "        bbox2[1] <= bbox1[1] <= (bbox2[1] + height2):\n",
        "        return True\n",
        "\n",
        "    #right top of bbox1\n",
        "    if bbox2[0] <= (bbox1[0]+width1) <= (bbox2[0] + width2) and \\\n",
        "        bbox2[1] <= (bbox1[1]+height1) <= (bbox2[1] + height2):\n",
        "        return True\n",
        "\n",
        "    return False\n",
        "\n",
        "#check if bbox interacts\n",
        "bbox_int = []\n",
        "for img_data in mre2anim:\n",
        "    for detect in img_data['detections']:\n",
        "        if detect['conf'] >= mega_thresh:\n",
        "            bbox1 = detect['bbox']\n",
        "            for detect2 in img_data['detections']:\n",
        "                if detect2 != detect:\n",
        "                    if detect2['conf'] >= mega_thresh:\n",
        "                        bbox2 = detect2['bbox']\n",
        "                        if overlap(bbox1, bbox2) == True:\n",
        "                            print(img_data['file'])\n",
        "                            bbox_int.append(img_data['file']) #unlike mre2anim, you just want the file name\n",
        "\n",
        "bbox_int_uniq = set(bbox_int) #get only the unique records in the list\n",
        "bbox_int_uniq_list = list(bbox_int_uniq)\n",
        "print(\"number of image with interacting animals:\", len(bbox_int_uniq_list)) #list how many images fulfill this"
      ],
      "metadata": {
        "id": "hX8ctpkERWlF"
      },
      "execution_count": null,
      "outputs": []
    },
    {
      "cell_type": "markdown",
      "source": [
        "###Downloading subset of camera trap images fulfilling criteria"
      ],
      "metadata": {
        "id": "OEwCPs98TEY3"
      }
    },
    {
      "cell_type": "code",
      "source": [
        "from google.colab import auth\n",
        "auth.authenticate_user()"
      ],
      "metadata": {
        "id": "8KHuqx0hTM0L"
      },
      "execution_count": null,
      "outputs": []
    },
    {
      "cell_type": "code",
      "source": [
        "!curl https://sdk.cloud.google.com | bash"
      ],
      "metadata": {
        "id": "ZFFDGzbkTQLc"
      },
      "execution_count": null,
      "outputs": []
    },
    {
      "cell_type": "code",
      "source": [
        "!gcloud init"
      ],
      "metadata": {
        "id": "MLmj5kqcTSlN"
      },
      "execution_count": null,
      "outputs": []
    },
    {
      "cell_type": "code",
      "source": [
        "url_base = 'gs://public-datasets-lila/wellington-unzipped/images/' #change url for camera trap datasets of interest\n",
        "output_folder = \"\" #<location of where to save files>\n",
        "bbox_int_uniq_list_url = []\n",
        "for img in bbox_int_uniq_list:\n",
        "  url = url_base + img\n",
        "  bbox_int_uniq_list_url.append(url)"
      ],
      "metadata": {
        "id": "rpE7k5QBTYJg"
      },
      "execution_count": null,
      "outputs": []
    },
    {
      "cell_type": "code",
      "source": [
        "# Loop through the URLs and download files\n",
        "for url in bbox_int_uniq_list_url:\n",
        "    !gsutil -m cp \"$url\" \"$output_folder\""
      ],
      "metadata": {
        "id": "uF2F8PnRTdGo"
      },
      "execution_count": null,
      "outputs": []
    },
    {
      "cell_type": "markdown",
      "source": [
        "###Running MegaDetector on subset of images"
      ],
      "metadata": {
        "id": "EMZwK-aZZPNG"
      }
    },
    {
      "cell_type": "code",
      "source": [
        "images_dir = '' #directory of your subsets\n",
        "output_file_path = ''# Choose a location for the output JSON file"
      ],
      "metadata": {
        "id": "ij684JRpTfD4"
      },
      "execution_count": null,
      "outputs": []
    },
    {
      "cell_type": "code",
      "source": [
        "#Detection script on batch data\n",
        "!python /content/CameraTraps/detection/run_detector_batch.py md_v5b.0.0.pt \"$images_dir\" \"$output_file_path\" --recursive --output_relative_filenames --quiet"
      ],
      "metadata": {
        "id": "UdWKpCf7ZZ_I"
      },
      "execution_count": null,
      "outputs": []
    },
    {
      "cell_type": "code",
      "source": [
        "#Visualisation\n",
        "visualization_dir = '/content/visualized_images'\n",
        "!python /content/CameraTraps/visualization/visualize_detector_output.py \"$output_file_path\" \"$visualization_dir\" --confidence 0.2 --images_dir \"$images_dir\""
      ],
      "metadata": {
        "id": "uTe1OwRGZphN"
      },
      "execution_count": null,
      "outputs": []
    },
    {
      "cell_type": "markdown",
      "source": [
        "###Cropping bounding boxes"
      ],
      "metadata": {
        "id": "Bqu-nyJbGKXP"
      }
    },
    {
      "cell_type": "code",
      "source": [
        "### all imports\n",
        "import PIL\n",
        "from PIL import Image, ImageFile, ImageFont, ImageDraw\n",
        "import numpy as np\n",
        "from tensorflow.python.eager.context import global_seed\n",
        "import json\n",
        "import shutil\n",
        "import os"
      ],
      "metadata": {
        "id": "71MIJO4yGNFN"
      },
      "execution_count": null,
      "outputs": []
    },
    {
      "cell_type": "code",
      "source": [
        "###variables to set\n",
        "mega_thresh = 0.6 #threshold of megadetector bbox\n",
        "json_path = '/content/kruger.json' #path to json file\n",
        "file_path = '/content/kruger/' #where the camtrap images are\n",
        "output_folder = '/content/crops' #where to save crops"
      ],
      "metadata": {
        "id": "UMJGQ5cWGT0-"
      },
      "execution_count": null,
      "outputs": []
    },
    {
      "cell_type": "code",
      "source": [
        "### access your Megadetector JSON file\n",
        "with open(json_path, 'r') as f:\n",
        "    detection_results = json.load(f)"
      ],
      "metadata": {
        "id": "Yeb1vJ7WG-zy"
      },
      "execution_count": null,
      "outputs": []
    },
    {
      "cell_type": "code",
      "source": [
        "###function to crop\n",
        "def crop_detections(detect, img, imageWidth, imageHeight, img_name, conf):\n",
        "    x1, y1,w_box, h_box = detect[\"bbox\"]\n",
        "    ymin,xmin,ymax, xmax = y1, x1, y1 + h_box, x1 + w_box\n",
        "    area = (xmin * imageWidth,\n",
        "            ymin * imageHeight,\n",
        "            xmax * imageWidth,\n",
        "            ymax * imageHeight)\n",
        "    cropping = img.crop(area)\n",
        "    output_filename = str(img_name) + str(conf) + \".JPG\"\n",
        "    cropping.save(os.path.join(output_folder, output_filename))"
      ],
      "metadata": {
        "id": "GGHHW75JG_03"
      },
      "execution_count": null,
      "outputs": []
    },
    {
      "cell_type": "code",
      "source": [
        "#iterate through all images in set folder\n",
        "for img_data in detection_results[\"images\"]:\n",
        "    img_path = os.path.join(file_path, img_data['file'])\n",
        "    img_name = img_data['file']\n",
        "    if os.path.exists(img_path) == True:\n",
        "      img = Image.open(img_path)\n",
        "      imageWidth = img.size[0]\n",
        "      imageHeight = img.size[1]\n",
        "      for detect in img_data[\"detections\"]:\n",
        "          if detect['conf'] >= mega_thresh:\n",
        "              conf = detect['conf']\n",
        "              crop_detections(detect, img, imageWidth, imageHeight, img_name, conf)"
      ],
      "metadata": {
        "id": "EAoB3ZpmHCAW"
      },
      "execution_count": null,
      "outputs": []
    }
  ]
}
